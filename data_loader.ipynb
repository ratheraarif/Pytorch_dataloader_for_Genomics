{
 "cells": [
  {
   "cell_type": "code",
   "execution_count": 1,
   "id": "93c39358-61e4-410d-86e5-3112eefc3618",
   "metadata": {},
   "outputs": [],
   "source": [
    "from torch.utils.data import Dataset, DataLoader\n",
    "import torch\n",
    "import torch.nn as nn\n",
    "import torch.nn.functional as F\n",
    "import h5py\n",
    "import pandas as pd\n",
    "from Bio import SeqIO\n",
    "import numpy as np\n"
   ]
  },
  {
   "cell_type": "code",
   "execution_count": 2,
   "id": "49085019-c908-402c-893a-c156df392f83",
   "metadata": {},
   "outputs": [],
   "source": [
    "genome = \"resources/genomes/hg38.ml.fa\"\n",
    "genome_dict = SeqIO.to_dict(SeqIO.parse(genome, \"fasta\"))"
   ]
  },
  {
   "cell_type": "code",
   "execution_count": 35,
   "id": "244d880c-2b23-45dc-b281-8a773b8da776",
   "metadata": {},
   "outputs": [],
   "source": [
    "train_data = \"test_train_data/h5py/all_train.h5\""
   ]
  },
  {
   "cell_type": "code",
   "execution_count": 33,
   "id": "859a5f13-6cf5-4e0b-9edf-9781cf760815",
   "metadata": {},
   "outputs": [
    {
     "data": {
      "text/plain": [
       "((35138, 196608), (35138, 896, 10))"
      ]
     },
     "execution_count": 33,
     "metadata": {},
     "output_type": "execute_result"
    }
   ],
   "source": [
    "train_data['sequence'].shape, train_data['target'].shape"
   ]
  },
  {
   "cell_type": "code",
   "execution_count": 10,
   "id": "bbde64e2-af17-40e1-861a-6d18b15bdd35",
   "metadata": {},
   "outputs": [],
   "source": [
    "bed_file =\"test_train_data/sequences.bed\""
   ]
  },
  {
   "cell_type": "code",
   "execution_count": 53,
   "id": "7367f4a5-e4ff-462f-872b-b41a26ca35e3",
   "metadata": {},
   "outputs": [],
   "source": [
    "train_dataset = EnformerDataset(train_data, bed_file, seqlen=196608, genome_dict=genome_dict,\n",
    "                             shift_aug=True, rc_aug=True, fold=\"train\")    \n",
    "train_loader = DataLoader(train_dataset, batch_size=4, drop_last=True, shuffle=False, num_workers=0)"
   ]
  },
  {
   "cell_type": "code",
   "execution_count": 54,
   "id": "e460a0ed-fb97-414a-8236-e7681715915f",
   "metadata": {},
   "outputs": [
    {
     "data": {
      "text/plain": [
       "(torch.Size([4, 196608, 4]), torch.Size([4, 896, 10]))"
      ]
     },
     "execution_count": 54,
     "metadata": {},
     "output_type": "execute_result"
    }
   ],
   "source": [
    "batch = next(iter(train_loader))\n",
    "batch['sequence'].shape, batch['target'].shape"
   ]
  },
  {
   "cell_type": "code",
   "execution_count": 39,
   "id": "4527c39a-7d0f-4bbd-b4c5-24cb78de7b9a",
   "metadata": {},
   "outputs": [],
   "source": [
    "\n",
    "class EnformerDataset(Dataset):\n",
    "    \"\"\"\n",
    "    GEP means Gene Expression Prediction\n",
    "    \"\"\"\n",
    "    def __init__(self, file_path, bed_path, seqlen, genome_dict, shift_aug, rc_aug, fold):\n",
    "        self.file_path = file_path\n",
    "        self.bed_path = bed_path\n",
    "        self.fold = fold  # train / valid / test\n",
    "\n",
    "        \n",
    "        self.h5_file = h5py.File(self.file_path, 'r')\n",
    "        all_targets = self.h5_file['target'][:]  # load all first\n",
    "\n",
    "       \n",
    "        bed_file = pd.read_csv(bed_path, sep='\\t', names=[\"chrom\", \"start\", \"end\", \"fold\"])\n",
    "        self.bed_file = bed_file[bed_file[\"fold\"] == self.fold].reset_index(drop=True)\n",
    "\n",
    "       \n",
    "        self.targets = all_targets[self.bed_file.index]\n",
    "\n",
    "        assert len(self.bed_file) == len(self.targets), \\\n",
    "            f\"Mismatch: {len(self.bed_file)} rows in BED vs {len(self.targets)} targets\"\n",
    "\n",
    "        self.seqlen = seqlen\n",
    "        self.genome_dict = genome_dict\n",
    "        self.chrom_length = {chrom: len(genome_dict[chrom]) for chrom in genome_dict}\n",
    "\n",
    "        self.shift_aug = shift_aug\n",
    "        self.rc_aug = rc_aug\n",
    "\n",
    "    def resize_interval(self, chrom, start, end):\n",
    "        mid_point = (start + end) // 2\n",
    "        extend_start = mid_point - self.seqlen // 2\n",
    "        extend_end = mid_point + self.seqlen // 2\n",
    "        trimmed_start = max(0, extend_start)\n",
    "        left_pad = trimmed_start - extend_start\n",
    "        trimmed_end = min(self.chrom_length[chrom], extend_end)\n",
    "        right_pad = extend_end - trimmed_end\n",
    "        return trimmed_start, trimmed_end, left_pad, right_pad\n",
    "\n",
    "    def get_sequence(self, chrom, start, end):\n",
    "        trimmed_start, trimmed_end, left_pad, right_pad = self.resize_interval(chrom, start, end)\n",
    "        sequence = str(self.genome_dict[chrom].seq[trimmed_start:trimmed_end]).upper()\n",
    "        left_pad_seq = 'N' * left_pad\n",
    "        right_pad_seq = 'N' * right_pad\n",
    "        sequence = left_pad_seq + sequence + right_pad_seq\n",
    "        return sequence\n",
    "\n",
    "    def sequence_to_onehot(self, sequence):\n",
    "        mapping = {'A': [1, 0, 0, 0],\n",
    "                   'C': [0, 1, 0, 0],\n",
    "                   'G': [0, 0, 1, 0],\n",
    "                   'T': [0, 0, 0, 1],\n",
    "                   'N': [0, 0, 0, 0]}\n",
    "        onehot = np.array([mapping[base] for base in sequence], dtype=np.float32)\n",
    "        return onehot\n",
    "\n",
    "    def __len__(self):\n",
    "        return len(self.targets)\n",
    "\n",
    "    def __getitem__(self, idx):\n",
    "        target = self.targets[idx]\n",
    "        row = self.bed_file.iloc[idx]\n",
    "        chrom, start, end = row['chrom'], row['start'], row['end']\n",
    "\n",
    "        if self.shift_aug:\n",
    "            shift = np.random.randint(-3, 4)\n",
    "            start += shift\n",
    "            end += shift\n",
    "\n",
    "        sequence = self.get_sequence(chrom, start, end)\n",
    "        onehot = self.sequence_to_onehot(sequence)\n",
    "\n",
    "        if self.rc_aug and np.random.rand() < 0.5:\n",
    "            onehot = onehot[::-1, ::-1].copy()  # <-- copy removes negative stride\n",
    "            target = target[::-1].copy() if isinstance(target, np.ndarray) else target\n",
    "\n",
    "        return {\n",
    "            'sequence': onehot,\n",
    "            'target': target,\n",
    "        }\n",
    "\n",
    "    def close(self):\n",
    "        self.h5_file.close()\n"
   ]
  }
 ],
 "metadata": {
  "kernelspec": {
   "display_name": "torch_enformer",
   "language": "python",
   "name": "torch_enformer"
  },
  "language_info": {
   "codemirror_mode": {
    "name": "ipython",
    "version": 3
   },
   "file_extension": ".py",
   "mimetype": "text/x-python",
   "name": "python",
   "nbconvert_exporter": "python",
   "pygments_lexer": "ipython3",
   "version": "3.9.21"
  }
 },
 "nbformat": 4,
 "nbformat_minor": 5
}
